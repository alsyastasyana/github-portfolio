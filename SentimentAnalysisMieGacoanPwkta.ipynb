{
  "nbformat": 4,
  "nbformat_minor": 0,
  "metadata": {
    "colab": {
      "provenance": []
    },
    "kernelspec": {
      "name": "python3",
      "display_name": "Python 3"
    },
    "language_info": {
      "name": "python"
    }
  },
  "cells": [
    {
      "cell_type": "markdown",
      "source": [],
      "metadata": {
        "id": "kNx4LVnnqgXI"
      }
    },
    {
      "cell_type": "markdown",
      "source": [
        "**Sentiment Analysis Mie Gacoan Purwakarta GoFood Reviews using TextBlob**"
      ],
      "metadata": {
        "id": "90FznIQOt5cm"
      }
    },
    {
      "cell_type": "markdown",
      "source": [
        "1. Install Python library"
      ],
      "metadata": {
        "id": "DhORirm3nyLW"
      }
    },
    {
      "cell_type": "code",
      "source": [
        "import pandas as pd\n",
        "import matplotlib.pyplot as plt\n",
        "from Sastrawi.Stemmer.StemmerFactory import StemmerFactory\n",
        "from textblob import TextBlob\n",
        "from googletrans import Translator\n",
        "from sklearn.feature_extraction.text import CountVectorizer"
      ],
      "metadata": {
        "id": "TNfZIhGhwtR0"
      },
      "execution_count": null,
      "outputs": []
    },
    {
      "cell_type": "markdown",
      "source": [
        "2. Load dataset"
      ],
      "metadata": {
        "id": "62vd_BiYn-ba"
      }
    },
    {
      "cell_type": "code",
      "source": [
        "dataset = '/content/Mie Gacoan Purwakarta Gofood Reviews.csv'  # ganti dengan nama file yang di-upload\n",
        "df = pd.read_csv(dataset)"
      ],
      "metadata": {
        "id": "xtQ4homOyBNg"
      },
      "execution_count": null,
      "outputs": []
    },
    {
      "cell_type": "markdown",
      "source": [
        "3. Show the first few lines from the dataset"
      ],
      "metadata": {
        "id": "oeoO2nuOoOfW"
      }
    },
    {
      "cell_type": "code",
      "source": [
        "print(df.head())"
      ],
      "metadata": {
        "colab": {
          "base_uri": "https://localhost:8080/"
        },
        "id": "c6tPWfJx2ETJ",
        "outputId": "7d74ebb1-ac9a-4c54-8188-4b0deb95cbf4"
      },
      "execution_count": null,
      "outputs": [
        {
          "output_type": "stream",
          "name": "stdout",
          "text": [
            "  Initial            Name                                   User  Rate  \\\n",
            "0      YR    Y*** R******       Pengguna Gojek sejak 1 Juni 2022     2   \n",
            "1      NS        N S*****       Pengguna Gojek sejak 3 Juni 2024     5   \n",
            "2       N           Novia       Pengguna Gojek sejak 7 Juli 2022     2   \n",
            "3      as  asep saepullah  Pengguna Gojek sejak 16 Februari 2019     5   \n",
            "4       L            Lina    Pengguna Gojek sejak 5 Oktober 2022     4   \n",
            "\n",
            "                                             Comment  \\\n",
            "0                                    Lv ny ketukerrr   \n",
            "1                                  lovvveee gacoaann   \n",
            "2  harusnya gojek di prioritaskan ya, ini barusan...   \n",
            "3                          kualitas ok, kecepatan ok   \n",
            "4  Kemasan nya kok gak kaya yg di Bandung ya pake...   \n",
            "\n",
            "                                                Menu  \\\n",
            "0  Mie Gacoan lv 3 - Gacoan Fest C N P - Mie Gaco...   \n",
            "1  Mie Gacoan lv 2 - Mie Hompimpa lv 3 - Orange N...   \n",
            "2   Mie Gacoan lv 1 - Lumpia Udang - Vanila Latte NP   \n",
            "3  Green Thai Tea - Mie Gacoan lv 3 - Gacoan Fest...   \n",
            "4         Mie Gacoan lv 2 - Mie Gacoan lv 1 - Siomay   \n",
            "\n",
            "                          Date  \n",
            "0  Dibeli tanggal 14 Juli 2024  \n",
            "1  Dibeli tanggal 12 Juli 2024  \n",
            "2  Dibeli tanggal 11 Juli 2024  \n",
            "3  Dibeli tanggal 11 Juli 2024  \n",
            "4  Dibeli tanggal 10 Juli 2024  \n"
          ]
        }
      ]
    },
    {
      "cell_type": "markdown",
      "source": [
        "4. Make a stemmer"
      ],
      "metadata": {
        "id": "465k4RfApsOB"
      }
    },
    {
      "cell_type": "code",
      "source": [
        "factory = StemmerFactory()\n",
        "stemmer = factory.create_stemmer()"
      ],
      "metadata": {
        "id": "-hQWU_jB2UKY"
      },
      "execution_count": null,
      "outputs": []
    },
    {
      "cell_type": "markdown",
      "source": [
        "5. Create a function for stemming"
      ],
      "metadata": {
        "id": "d74O8l-ip21X"
      }
    },
    {
      "cell_type": "code",
      "source": [
        "def preprocess_review(review):\n",
        "    return stemmer.stem(review)"
      ],
      "metadata": {
        "id": "c_vtknxx2eZD"
      },
      "execution_count": null,
      "outputs": []
    },
    {
      "cell_type": "markdown",
      "source": [
        "6. Apply preprocessing to each review"
      ],
      "metadata": {
        "id": "sUp_WIz9qGwF"
      }
    },
    {
      "cell_type": "code",
      "source": [
        "df['cleaned_comment'] = df['Comment'].apply(preprocess_review)"
      ],
      "metadata": {
        "id": "t-PXIQp92hqQ"
      },
      "execution_count": null,
      "outputs": []
    },
    {
      "cell_type": "markdown",
      "source": [
        "7. Translate Indonesian reviews to English using googletrans library"
      ],
      "metadata": {
        "id": "yEqmK7N4qT9n"
      }
    },
    {
      "cell_type": "code",
      "source": [
        "translator = Translator()\n",
        "df['translated_comment'] = df['cleaned_comment'].apply(lambda x: translator.translate(x, src='id', dest='en').text)"
      ],
      "metadata": {
        "id": "Q2y4QOmi20AJ"
      },
      "execution_count": null,
      "outputs": []
    },
    {
      "cell_type": "markdown",
      "source": [
        "8. Show some lines with translated reviews"
      ],
      "metadata": {
        "id": "14YYwNg2qzWu"
      }
    },
    {
      "cell_type": "code",
      "source": [
        "print(df[['Comment', 'cleaned_comment', 'translated_comment']].head())"
      ],
      "metadata": {
        "colab": {
          "base_uri": "https://localhost:8080/"
        },
        "id": "Af4klRjR5kC8",
        "outputId": "e0cc7df1-e4b7-431e-91f8-72763fe78e57"
      },
      "execution_count": null,
      "outputs": [
        {
          "output_type": "stream",
          "name": "stdout",
          "text": [
            "                                             Comment  \\\n",
            "0                                    Lv ny ketukerrr   \n",
            "1                                  lovvveee gacoaann   \n",
            "2  harusnya gojek di prioritaskan ya, ini barusan...   \n",
            "3                          kualitas ok, kecepatan ok   \n",
            "4  Kemasan nya kok gak kaya yg di Bandung ya pake...   \n",
            "\n",
            "                                     cleaned_comment  \\\n",
            "0                                    lv ny ketukerrr   \n",
            "1                                  lovvveee gacoaann   \n",
            "2  harus gojek di prioritas ya ini barusan lama b...   \n",
            "3                               kualitas ok cepat ok   \n",
            "4  kemas nya kok gak kaya yg di bandung ya pake d...   \n",
            "\n",
            "                                  translated_comment  \n",
            "0                                      LV is ketuker  \n",
            "1                                     Loveeee Gacoan  \n",
            "2  You have to go a motorbike in priority, this i...  \n",
            "3                                   ok quality ok ok  \n",
            "4  How come the pack is not like the one in Bandu...  \n"
          ]
        }
      ]
    },
    {
      "cell_type": "markdown",
      "source": [
        "9. Create a function to calculate sentiment using TextBlob"
      ],
      "metadata": {
        "id": "VaGsiaL3rQW1"
      }
    },
    {
      "cell_type": "code",
      "source": [
        "def get_sentiment(review):\n",
        "    analysis = TextBlob(review)\n",
        "    if analysis.sentiment.polarity > 0:\n",
        "        return 'Positive'\n",
        "    elif analysis.sentiment.polarity == 0:\n",
        "        return 'Neutral'\n",
        "    else:\n",
        "        return 'Negative'"
      ],
      "metadata": {
        "id": "bAT6GWG88AWi"
      },
      "execution_count": null,
      "outputs": []
    },
    {
      "cell_type": "markdown",
      "source": [
        "10. Add sentiment column to DataFrame"
      ],
      "metadata": {
        "id": "C1uW8bSUrizx"
      }
    },
    {
      "cell_type": "code",
      "source": [
        "df['sentiment'] = df['translated_comment'].apply(get_sentiment)"
      ],
      "metadata": {
        "id": "vHsxHrs98FVX"
      },
      "execution_count": null,
      "outputs": []
    },
    {
      "cell_type": "markdown",
      "source": [
        "11. Show some lines with sentiment"
      ],
      "metadata": {
        "id": "_cIM_Jcjruq2"
      }
    },
    {
      "cell_type": "code",
      "source": [
        "print(df[['Comment', 'translated_comment', 'sentiment']].head())"
      ],
      "metadata": {
        "colab": {
          "base_uri": "https://localhost:8080/"
        },
        "id": "VrBXeUAa8KRY",
        "outputId": "16221f14-68de-4e1f-839a-bc21ec91e9ca"
      },
      "execution_count": null,
      "outputs": [
        {
          "output_type": "stream",
          "name": "stdout",
          "text": [
            "                                             Comment  \\\n",
            "0                                    Lv ny ketukerrr   \n",
            "1                                  lovvveee gacoaann   \n",
            "2  harusnya gojek di prioritaskan ya, ini barusan...   \n",
            "3                          kualitas ok, kecepatan ok   \n",
            "4  Kemasan nya kok gak kaya yg di Bandung ya pake...   \n",
            "\n",
            "                                  translated_comment sentiment  \n",
            "0                                      LV is ketuker   Neutral  \n",
            "1                                     Loveeee Gacoan   Neutral  \n",
            "2  You have to go a motorbike in priority, this i...  Negative  \n",
            "3                                   ok quality ok ok  Positive  \n",
            "4  How come the pack is not like the one in Bandu...   Neutral  \n"
          ]
        }
      ]
    },
    {
      "cell_type": "markdown",
      "source": [
        "12. Visualize the result of sentiment"
      ],
      "metadata": {
        "id": "0joB3CS4r2h8"
      }
    },
    {
      "cell_type": "code",
      "source": [
        "sentiment_count = df['sentiment'].value_counts()\n",
        "plt.figure(figsize=(6,4))\n",
        "plt.bar(sentiment_count.index, sentiment_count.values, color=['green', 'gray', 'red'])\n",
        "plt.title('Sentiment Analysis of Mie Gacoan Purwakarta GoFood Reviews')\n",
        "plt.xlabel('Sentiment')\n",
        "plt.ylabel('Count')\n",
        "plt.show()"
      ],
      "metadata": {
        "colab": {
          "base_uri": "https://localhost:8080/",
          "height": 410
        },
        "id": "Nrh0t0678QI2",
        "outputId": "c17c8e78-cce4-4d8c-da25-add52346d825"
      },
      "execution_count": null,
      "outputs": [
        {
          "output_type": "display_data",
          "data": {
            "text/plain": [
              "<Figure size 600x400 with 1 Axes>"
            ],
            "image/png": "[encoded data removed]"
          },
          "metadata": {}
        }
      ]
    },
    {
      "cell_type": "markdown",
      "source": [
        "13. Identify positive and negative reviews based on common words"
      ],
      "metadata": {
        "id": "DLaUesFFse9L"
      }
    },
    {
      "cell_type": "code",
      "source": [
        "positive_reviews = df[df['sentiment'] == 'Positive']['translated_comment']\n",
        "negative_reviews = df[df['sentiment'] == 'Negative']['translated_comment']"
      ],
      "metadata": {
        "id": "lS4ATY-u8Tlq"
      },
      "execution_count": null,
      "outputs": []
    },
    {
      "cell_type": "markdown",
      "source": [
        "14. Use CountVectorizer to extract the words"
      ],
      "metadata": {
        "id": "IG8cFY--sztp"
      }
    },
    {
      "cell_type": "code",
      "source": [
        "vectorizer = CountVectorizer(max_features=10, stop_words='english')\n",
        "positive_counts = vectorizer.fit_transform(positive_reviews).sum(axis=0)\n",
        "negative_counts = vectorizer.fit_transform(negative_reviews).sum(axis=0)"
      ],
      "metadata": {
        "id": "SFOmIo438gFt"
      },
      "execution_count": null,
      "outputs": []
    },
    {
      "cell_type": "code",
      "source": [
        "positive_features = vectorizer.get_feature_names_out()\n",
        "negative_features = vectorizer.get_feature_names_out()"
      ],
      "metadata": {
        "id": "l-51vKLY8jPR"
      },
      "execution_count": null,
      "outputs": []
    },
    {
      "cell_type": "code",
      "source": [
        "positive_counts_df = pd.DataFrame(positive_counts, columns=positive_features)\n",
        "negative_counts_df = pd.DataFrame(negative_counts, columns=negative_features)"
      ],
      "metadata": {
        "id": "Cu21Tjgz8nU9"
      },
      "execution_count": null,
      "outputs": []
    },
    {
      "cell_type": "markdown",
      "source": [
        "15. Show common words in positive and negative reviews"
      ],
      "metadata": {
        "id": "BfO3PjkFtMww"
      }
    },
    {
      "cell_type": "code",
      "source": [
        "# Menampilkan kata-kata umum di ulasan positif dan negatif\n",
        "print(\"Top words in positive reviews:\")\n",
        "print(positive_counts_df)"
      ],
      "metadata": {
        "colab": {
          "base_uri": "https://localhost:8080/"
        },
        "id": "oUfFZsqW8pDE",
        "outputId": "41d95817-a5e4-4716-8709-bb6606c246ea"
      },
      "execution_count": null,
      "outputs": [
        {
          "output_type": "stream",
          "name": "stdout",
          "text": [
            "Top words in positive reviews:\n",
            "   eating  gaco  level  like  long  message  noodles  spicy  tasty  time\n",
            "0      37    13     36    22    13       18       32     27     15    15\n"
          ]
        }
      ]
    },
    {
      "cell_type": "code",
      "source": [
        "print(\"Top words in negative reviews:\")\n",
        "print(negative_counts_df)"
      ],
      "metadata": {
        "colab": {
          "base_uri": "https://localhost:8080/"
        },
        "id": "0JEK4quH8vCO",
        "outputId": "ac480b79-8566-4854-cec4-46347849e010"
      },
      "execution_count": null,
      "outputs": [
        {
          "output_type": "stream",
          "name": "stdout",
          "text": [
            "\n",
            "Top words in negative reviews:\n",
            "   eating  gaco  level  like  long  message  noodles  spicy  tasty  time\n",
            "0       7     7      8     7     7        4       10     14      6     7\n"
          ]
        }
      ]
    }
  ]
}